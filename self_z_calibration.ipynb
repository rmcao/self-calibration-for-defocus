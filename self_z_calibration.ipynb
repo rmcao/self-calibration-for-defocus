{
 "cells": [
  {
   "cell_type": "markdown",
   "metadata": {},
   "source": [
    "# Demonstration of self-calibration of defocus position with unknown samples\n",
    "Cao, Ruiming, et al. \"Self-calibrated 3D differential phase contrast microscopy with optimized illumination.\" Biomedical Optics Express 13.3 (2022): 1671-1684.\n",
    "\n",
    "[Paper link](https://opg.optica.org/boe/fulltext.cfm?uri=boe-13-3-1671&id=469840)\n",
    "\n",
    "Code author: Ruiming Cao, rcao@berkeley.edu"
   ]
  },
  {
   "cell_type": "code",
   "execution_count": null,
   "metadata": {},
   "outputs": [
    {
     "name": "stdout",
     "output_type": "stream",
     "text": [
      "[PhysicalDevice(name='/physical_device:GPU:0', device_type='GPU')]\n",
      "1 Physical GPUs, 1 Logical GPUs\n"
     ]
    }
   ],
   "source": [
    "%load_ext autoreload\n",
    "%autoreload 2\n",
    "%matplotlib widget\n",
    "import numpy as np\n",
    "import os, random\n",
    "os.environ[\"CUDA_VISIBLE_DEVICES\"]=\"1\"\n",
    "\n",
    "import matplotlib.pyplot as plt\n",
    "from ipywidgets import interact, IntSlider\n",
    "\n",
    "from algorithm_throughfocus import ThroughFocusSolver"
   ]
  },
  {
   "cell_type": "markdown",
   "metadata": {},
   "source": [
    "# Set up parameters and load experimental dataset"
   ]
  },
  {
   "cell_type": "code",
   "execution_count": 26,
   "metadata": {},
   "outputs": [],
   "source": [
    "wavelength     = 0.525\n",
    "mag            = 40\n",
    "na             = 0.55\n",
    "na_in          = 0.0\n",
    "pixel_size_cam = 6.5\n",
    "pixel_size     = pixel_size_cam/mag #in micron\n",
    "RI_medium      =   1.58             #background refractive index\n",
    "pixel_size_z   =  1.0   #in micron\n",
    "rotation       = [180, 0, 270, 90]\n",
    "fx_illu = 0.361 / wavelength\n",
    "fy_illu = 0.0\n",
    "\n",
    "with np.load('single_led_im_stack.npz') as data:\n",
    "    # off axis led is used by default in this code. \n",
    "    # on axis led can be used by setting fx_illu = 0.0\n",
    "    im_stack_offaxis_ = data['im_stack_offaxis_']\n",
    "    im_stack_onaxis_ = data['im_stack_onaxis_']\n"
   ]
  },
  {
   "cell_type": "markdown",
   "metadata": {},
   "source": [
    "# Generate a random z defocus trajectory"
   ]
  },
  {
   "cell_type": "code",
   "execution_count": null,
   "metadata": {
    "scrolled": false
   },
   "outputs": [
    {
     "name": "stdout",
     "output_type": "stream",
     "text": [
      "[0, 1, 2, 2, 3, 4, 6, 6, 7, 8, 8, 11, 14, 17, 19, 21, 21, 21, 21, 21, 27, 30, 33, 33, 34, 35, 35, 36, 37, 37, 38, 40, 40, 41, 42, 42, 44, 46, 47, 47, 49, 53, 54, 58, 58, 61, 62, 62, 62, 63, 64, 65, 65, 65, 66, 72, 74, 75, 75, 78, 82, 84, 84, 87, 87, 88, 91, 94, 100, 100, 102, 103, 104, 104, 105, 106, 107, 107, 109, 109, 109, 111, 111, 112, 116, 117, 119, 124, 126, 127, 128, 128, 129, 129, 131, 131, 131, 131, 132, 137]\n",
      "(100, 300, 300)\n",
      "68\n"
     ]
    }
   ],
   "source": [
    "img_ind_z = [0]\n",
    "for i in range(99):\n",
    "    img_ind_z.append(random.randint(1,im_stack_offaxis_.shape[0]-1))\n",
    "\n",
    "img_ind_z = sorted(img_ind_z)\n",
    "\n",
    "z_dist = [z * pixel_size_z for z in img_ind_z]\n",
    "\n",
    "print(img_ind_z)\n",
    "img_sel_onaxis_ = im_stack_onaxis_[img_ind_z]\n",
    "img_sel_offaxis_ = im_stack_offaxis_[img_ind_z]\n",
    "print(len(set(img_ind_z)))\n",
    "z_dist = [z - z_dist[0] for z in z_dist]"
   ]
  },
  {
   "cell_type": "markdown",
   "metadata": {},
   "source": [
    "## Visualize Intensity"
   ]
  },
  {
   "cell_type": "code",
   "execution_count": 27,
   "metadata": {
    "scrolled": false
   },
   "outputs": [
    {
     "data": {
      "application/vnd.jupyter.widget-view+json": {
       "model_id": "49e15914e96c4612bdc72c4d40cfb0f9",
       "version_major": 2,
       "version_minor": 0
      },
      "text/plain": [
       "Canvas(toolbar=Toolbar(toolitems=[('Home', 'Reset original view', 'home', 'home'), ('Back', 'Back to previous …"
      ]
     },
     "metadata": {},
     "output_type": "display_data"
    }
   ],
   "source": [
    "f, ax  = plt.subplots(3, 4, sharex=True, sharey=True, figsize=(9, 4))\n",
    "frames = []\n",
    "for plot_index in range(12):\n",
    "    plot_row = plot_index // 4\n",
    "    plot_col = plot_index % 4\n",
    "    ax[plot_row,plot_col].imshow(img_sel_offaxis_[plot_index*8], clim=(0.5, 1.5), cmap=\"gray\",)\n",
    "    ax[plot_row,plot_col].axis(\"off\")\n",
    "\n",
    "f.tight_layout()"
   ]
  },
  {
   "cell_type": "markdown",
   "metadata": {},
   "source": [
    "# Init solver"
   ]
  },
  {
   "cell_type": "code",
   "execution_count": null,
   "metadata": {
    "scrolled": true
   },
   "outputs": [
    {
     "name": "stdout",
     "output_type": "stream",
     "text": [
      "[-60.0, -58.0, -58.0, -58.0, -57.0, -55.0, -52.0, -51.0, -48.0, -48.0, -47.0, -45.0, -44.0, -42.0, -41.0, -39.0, -39.0, -38.0, -38.0, -37.0, -36.0, -35.0, -35.0, -33.0, -30.0, -30.0, -24.0, -23.0, -23.0, -21.0, -17.0, -16.0, -15.0, -8.0, -8.0, -8.0, -7.0, -6.0, -1.0, -1.0, 1.0, 1.0, 1.0, 1.0, 2.0, 4.0, 5.0, 5.0, 5.0, 6.0, 7.0, 9.0, 11.0, 11.0, 14.0, 15.0, 15.0, 16.0, 17.0, 20.0, 20.0, 23.0, 27.0, 28.0, 29.0, 30.0, 30.0, 30.0, 31.0, 32.0, 35.0, 36.0, 37.0, 42.0, 42.0, 42.0, 43.0, 44.0, 44.0, 47.0, 50.0, 50.0, 50.0, 53.0, 54.0, 54.0, 54.0, 55.0, 57.0, 58.0, 63.0, 64.0, 64.0, 65.0, 68.0, 71.0, 72.0, 73.0, 74.0, 76.0]\n"
     ]
    }
   ],
   "source": [
    "z_dist_ = list(np.array(z_dist).astype(np.float32)-60)\n",
    "fx_illu = 0.361 / wavelength\n",
    "pad = 2\n",
    "solver = ThroughFocusSolver(img_sel_offaxis_, pixel_size, wavelength,NA=na,z_planes=z_dist_, fx_illu=-fx_illu, fy_illu=-fy_illu,pad=(True,pad))"
   ]
  },
  {
   "cell_type": "markdown",
   "metadata": {},
   "source": [
    "## Run joint optimization of defocus positions and light field"
   ]
  },
  {
   "cell_type": "code",
   "execution_count": null,
   "metadata": {},
   "outputs": [],
   "source": [
    "start_pos = -70\n",
    "z_dist_init = [1.0*i*140/(img_sel_onaxis_.shape[0])+start_pos for i in range(img_sel_onaxis_.shape[0])]\n",
    "print('inital linear guess of z positions:')\n",
    "print(z_dist_init)\n",
    "\n",
    "s = 3  # skip every s frames for faster computation. s=1 for all frames\n",
    "pad = 2\n",
    "\n",
    "solver = ThroughFocusSolver(img_sel_offaxis_[::s], pixel_size, wavelength, na, z_dist_init[::s], fx_illu=-fx_illu, fy_illu=-fy_illu,pad=(True,pad))\n",
    "x_log, z_log, _, err_x_log, err_z_log, _ = solver.joint_solve_xz(z_dist_init[::s], \n",
    "                                                         lr_x=1e-2, lr_z=1e-2,iterations=50)\n"
   ]
  },
  {
   "cell_type": "markdown",
   "metadata": {},
   "source": [
    "## Visualize z "
   ]
  },
  {
   "cell_type": "code",
   "execution_count": null,
   "metadata": {
    "scrolled": false
   },
   "outputs": [
    {
     "data": {
      "application/vnd.jupyter.widget-view+json": {
       "model_id": "5241aa84b85e414f8cb2a8001e40ee44",
       "version_major": 2,
       "version_minor": 0
      },
      "text/plain": [
       "Canvas(toolbar=Toolbar(toolitems=[('Home', 'Reset original view', 'home', 'home'), ('Back', 'Back to previous …"
      ]
     },
     "metadata": {},
     "output_type": "display_data"
    },
    {
     "data": {
      "application/vnd.jupyter.widget-view+json": {
       "model_id": "3980b741073a4348ad49526736534886",
       "version_major": 2,
       "version_minor": 0
      },
      "text/plain": [
       "interactive(children=(IntSlider(value=0, description='iteration', max=50), Output()), _dom_classes=('widget-in…"
      ]
     },
     "metadata": {},
     "output_type": "display_data"
    },
    {
     "data": {
      "text/plain": [
       "<function __main__.updateFrames>"
      ]
     },
     "execution_count": 14,
     "metadata": {},
     "output_type": "execute_result"
    }
   ],
   "source": [
    "f, ax  = plt.subplots(1, 3, figsize=(10, 4))\n",
    "frame = []\n",
    "ax[0].plot(np.arange(len(z_log[0])), [z-70 for z in z_dist[::s]], 'ro', label='groundtruth')\n",
    "frame.append(ax[0].plot(np.arange(len(z_log[0])), z_log[0],'v', label='estmiated'))\n",
    "frame.append(ax[1].plot(np.arange(len(z_log[0])-1), np.abs(np.array(z_dist[1+s-1::s])-np.array(z_dist[:-1-s+1:s]) - (z_log[0][1:]-z_log[0][:-1])), 'o'))\n",
    "frame.append(ax[2].plot(np.arange(len(err_x_log)-1), err_x_log[1:], 'o'))\n",
    "# frame.append(ax[3].plot(np.arange(len(err_x_log)), err_x_log))\n",
    "ax[0].axis([-1.5, len(z_log[0])+1.5, np.min(np.array(z_log))-15, np.max(np.array(z_log))+15])\n",
    "ax[1].axis([-1.5, len(z_log[0])+1.5, -1, 25])\n",
    "ax[2].axis([-2, len(err_x_log)+2, np.min(np.array(err_x_log))-15, np.max(np.array(err_x_log))+15])\n",
    "\n",
    "ax[0].set_title('defocus position')\n",
    "ax[1].set_title('defocus position error')\n",
    "ax[2].set_title('loss')\n",
    "ax[0].set_xlabel('time')\n",
    "ax[0].set_ylabel('z, µm')\n",
    "ax[1].set_xlabel('time')\n",
    "ax[1].set_ylabel('abs(actual defocus - predicted defocus), µm')\n",
    "ax[2].set_ylabel('loss')\n",
    "ax[2].set_xlabel('iteration')\n",
    "ax[0].legend()\n",
    "plt.tight_layout()\n",
    "\n",
    "def updateFrames(iteration):\n",
    "    frame[0][0].set_ydata(z_log[iteration])\n",
    "    ax[0].set_title('defocus position, iter={:d}'.format(iteration))\n",
    "    frame[1][0].set_ydata(np.abs(np.array(z_dist[1+s-1::s])-np.array(z_dist[:-1-s+1:s]) - (z_log[iteration][1:]-z_log[iteration][:-1])))\n",
    "#     frame[2][0].set_ydata(err_log[z_index])\n",
    "    frame[2][0].set_data(np.arange(iteration), err_x_log[:iteration])\n",
    "\n",
    "interact(updateFrames, iteration=IntSlider(min=0,max=len(z_log)-1,step=1,value=0))"
   ]
  }
 ],
 "metadata": {
  "kernelspec": {
   "display_name": "Python 3",
   "language": "python",
   "name": "python3"
  },
  "language_info": {
   "codemirror_mode": {
    "name": "ipython",
    "version": 3
   },
   "file_extension": ".py",
   "mimetype": "text/x-python",
   "name": "python",
   "nbconvert_exporter": "python",
   "pygments_lexer": "ipython3",
   "version": "3.7.9"
  }
 },
 "nbformat": 4,
 "nbformat_minor": 2
}
